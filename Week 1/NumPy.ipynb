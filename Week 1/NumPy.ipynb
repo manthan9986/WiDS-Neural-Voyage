{
 "cells": [
  {
   "cell_type": "markdown",
   "metadata": {},
   "source": [
    "## Getting hands-on with NumPy"
   ]
  },
  {
   "cell_type": "markdown",
   "metadata": {},
   "source": [
    "This assignment aims at acquainting you with numpy methods which you will require during this project. So, it is advised that you follow the instructions before each code cell diligently.<br>\n",
    "You are encouraged to google (or ChatGPT) things up wherever you feel stuck : )<br>\n",
    "But make sure you understand things and not just copy-paste them"
   ]
  },
  {
   "cell_type": "markdown",
   "metadata": {},
   "source": [
    "### **Import the NumPy library**"
   ]
  },
  {
   "cell_type": "code",
   "execution_count": 1,
   "metadata": {},
   "outputs": [],
   "source": [
    "import numpy as np"
   ]
  },
  {
   "cell_type": "markdown",
   "metadata": {},
   "source": [
    "### **Initialising arrays in NumPy**"
   ]
  },
  {
   "cell_type": "markdown",
   "metadata": {},
   "source": [
    "NumPy offers several way to initialise arrays\n",
    "* Create a $2\\times3$ array identical to\n",
    "$\\begin{bmatrix}\n",
    "1 & 2 & 4\\\\\n",
    "7 & 13 & 21\\\\\n",
    "\\end{bmatrix}$ and a $2\\times2\\times3$ array identical to\n",
    "$\\begin{bmatrix}\n",
    "[1 & 2 & 3] & [4 & 5 & 6]\\\\\n",
    "[7 & 8 & 9] & [10 & 11 & 12]\\\\\n",
    "\\end{bmatrix}$"
   ]
  },
  {
   "cell_type": "code",
   "execution_count": null,
   "metadata": {},
   "outputs": [],
   "source": [
    "# START\n",
    "    # Enter the values for the 2x3 array\n",
    "arr1 = np.array([[None, None, None], [None, None, None]])\n",
    "    # Similarly initialise the second array and assign it to arr2\n",
    "arr2 = np.array(None)\n",
    "# END\n",
    "\n",
    "print(\"arr1:\\n\", arr1)\n",
    "print(\"Shape of arr1:\", arr1.shape, \"; No. of Dimensions:\", arr1.ndim)\n",
    "print(\"arr2:\\n\", arr2)\n",
    "print(\"Shape of arr2:\", arr2.shape, \"; No. of Dimensions:\", arr2.ndim)"
   ]
  },
  {
   "cell_type": "markdown",
   "metadata": {},
   "source": [
    "Note that the shapes and no. of dimensions of the arrays have been printed. These attributes help a lot in debugging"
   ]
  },
  {
   "cell_type": "markdown",
   "metadata": {},
   "source": [
    "Now create\n",
    "* A $2\\times3$ array **arr3** of all zeros using **np.zeros**\n",
    "* A $2\\times3$ array **arr4** of all ones using **np.ones**\n",
    "* A $2\\times3$ array **arr5** of all fives using **np.full**\n",
    "* A 1-D array **arr6** containing only even numbers in the range $0-20$ using **np.arange**\n",
    "* Repeat last task using **np.linspace** and name it **arr7**"
   ]
  },
  {
   "cell_type": "code",
   "execution_count": null,
   "metadata": {},
   "outputs": [],
   "source": [
    "# START\n",
    "arr3 = None\n",
    "arr4 = None\n",
    "arr5 = None\n",
    "arr6 = None\n",
    "arr7 = None\n",
    "# END\n",
    "\n",
    "print(f\"arr3: {arr3}\")\n",
    "print(f\"arr4: {arr4}\")\n",
    "print(f\"arr5: {arr5}\")\n",
    "print(f\"arr6: {arr6}\")\n",
    "print(f\"arr7: {arr7}\")"
   ]
  },
  {
   "cell_type": "markdown",
   "metadata": {},
   "source": [
    "Creating arrays with random values\n",
    "* Create a $2\\times3$ array **arr8** using **np.random.rand**\n",
    "* Create a $2\\times3$ array **arr9** with rnadom integer values in $[5,8)$ using **randint** method of **random** module"
   ]
  },
  {
   "cell_type": "code",
   "execution_count": null,
   "metadata": {},
   "outputs": [],
   "source": [
    "# START\n",
    "arr8 = None\n",
    "arr9 = None\n",
    "# END\n",
    "\n",
    "print(arr8)\n",
    "print(arr9)"
   ]
  },
  {
   "cell_type": "markdown",
   "metadata": {},
   "source": [
    "### **Accessing arrays in NumPy**"
   ]
  },
  {
   "cell_type": "markdown",
   "metadata": {},
   "source": [
    "Initialise an array **arr** $=\n",
    "\\begin{bmatrix}\n",
    "1 & 3 & 5 & 7\\\\\n",
    "9 & 11 & 13 & 15\\\\\n",
    "17 & 19 & 21 & 23\n",
    "\\end{bmatrix}$ and perform the following operations:<br>\n",
    "\n",
    "* Extract and print the element 13 using numpy array indexing\n",
    "* Use array slicing to print only the 2nd and 4th columns of only the 2nd and 3rd rows of *arr*\n",
    "* Print all the values in *arr* which are a multiple of 3"
   ]
  },
  {
   "cell_type": "code",
   "execution_count": 17,
   "metadata": {},
   "outputs": [
    {
     "name": "stdout",
     "output_type": "stream",
     "text": [
      "[[ 1  3  5  7]\n",
      " [ 9 11 13 15]\n",
      " [17 19 21 23]]\n",
      "13\n",
      "[ 3  9 15 21]\n",
      "\n"
     ]
    }
   ],
   "source": [
    "import numpy as np\n",
    "arr = np.array([[1,3,5,7],[9,11,13,15],[17,19,21,23]])\n",
    "print(arr)\n",
    "print(arr[1,2])\n",
    "\n",
    "\n",
    "\n",
    "multiples_of_3 = arr[arr % 3 == 0]\n",
    "print(multiples_of_3)\n",
    "\n",
    "print()"
   ]
  },
  {
   "cell_type": "markdown",
   "metadata": {},
   "source": [
    "### **Reshaping and Broadcasting**"
   ]
  },
  {
   "cell_type": "markdown",
   "metadata": {},
   "source": [
    "* Reshape *arr* into a $2\\times6$ matrix and print it\n",
    "* Print the transpose of *arr*"
   ]
  },
  {
   "cell_type": "code",
   "execution_count": 18,
   "metadata": {},
   "outputs": [
    {
     "name": "stdout",
     "output_type": "stream",
     "text": [
      "[[ 1  3  5  7  9 11]\n",
      " [13 15 17 19 21 23]]\n",
      "<built-in method transpose of numpy.ndarray object at 0x120385770>\n"
     ]
    }
   ],
   "source": [
    "reshaped_arr = arr.reshape(2, 6)\n",
    "print(reshaped_arr)\n",
    "\n",
    "print(arr.transpose)"
   ]
  },
  {
   "cell_type": "markdown",
   "metadata": {},
   "source": [
    "Moving on to broadcasting, you are given two arrays **a** $=\n",
    "\\begin{bmatrix}\n",
    "1 & 2 & 3\n",
    "\\end{bmatrix}$ and **b** $=\n",
    "\\begin{bmatrix}\n",
    "4\\\\\n",
    "5\n",
    "\\end{bmatrix}$<br>\n",
    "\n",
    "Try adding these two arrays using **+** operator and print the result"
   ]
  },
  {
   "cell_type": "code",
   "execution_count": 2,
   "metadata": {},
   "outputs": [
    {
     "name": "stdout",
     "output_type": "stream",
     "text": [
      "[[5 6 7]\n",
      " [6 7 8]]\n"
     ]
    }
   ],
   "source": [
    "a = np.array([1,2,3])\n",
    "b = np.array([4,5]).reshape(2,1)\n",
    "c = a+b\n",
    "print(c)"
   ]
  },
  {
   "cell_type": "markdown",
   "metadata": {},
   "source": [
    "You will find that NumPy repeats the values for the arrays to match dimensions and be compatible while doing a particular matrix operation. In general, a dimension is compatible if it is equal to the respective dimension of the other array or if it is 1"
   ]
  },
  {
   "cell_type": "markdown",
   "metadata": {},
   "source": [
    "### **Miscellaneous**"
   ]
  },
  {
   "cell_type": "markdown",
   "metadata": {},
   "source": [
    "Be cautious while multiplying matrices and don't confuse the functions doing element wise multiplication with the ones doing traditional matrix multipication."
   ]
  },
  {
   "cell_type": "code",
   "execution_count": 9,
   "metadata": {},
   "outputs": [],
   "source": [
    "a = np.array([1,2,3])"
   ]
  },
  {
   "cell_type": "code",
   "execution_count": 12,
   "metadata": {},
   "outputs": [
    {
     "name": "stdout",
     "output_type": "stream",
     "text": [
      "[[ 1 14 39]\n",
      " [ 3 18 45]\n",
      " [ 5 22 51]]\n",
      "[[ 1 14 39]\n",
      " [ 3 18 45]\n",
      " [ 5 22 51]]\n"
     ]
    }
   ],
   "source": [
    "# Use np.multiply and the * operator to multiply 'arr' and 'a' in this cell, note that you may need to take transpose of one or the other matrix during this operation\n",
    "\n",
    "arr_t = arr.T\n",
    "\n",
    "result_with_operator = arr_t * a\n",
    "result_with_multiply = np.multiply(arr_t, a)\n",
    "\n",
    "print(result_with_operator)\n",
    "print(result_with_multiply)\n"
   ]
  },
  {
   "cell_type": "code",
   "execution_count": 10,
   "metadata": {},
   "outputs": [
    {
     "name": "stdout",
     "output_type": "stream",
     "text": [
      "[22 58 94]\n",
      "[22 58 94]\n"
     ]
    }
   ],
   "source": [
    "# Use np.matmul and np.dot functions to multiply 'arr' and 'a' in this cell, again you may need to take transpose of one or the other matrix\n",
    "\n",
    "result_with_matmul = np.matmul(arr, a)\n",
    "result_with_dot = np.dot(arr, a)\n",
    "\n",
    "print(result_with_matmul)\n",
    "print(result_with_dot)\n"
   ]
  }
 ],
 "metadata": {
  "kernelspec": {
   "display_name": "base",
   "language": "python",
   "name": "python3"
  },
  "language_info": {
   "codemirror_mode": {
    "name": "ipython",
    "version": 3
   },
   "file_extension": ".py",
   "mimetype": "text/x-python",
   "name": "python",
   "nbconvert_exporter": "python",
   "pygments_lexer": "ipython3",
   "version": "3.12.7"
  }
 },
 "nbformat": 4,
 "nbformat_minor": 2
}
